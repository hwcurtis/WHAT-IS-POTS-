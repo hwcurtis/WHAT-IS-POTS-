{
 "cells": [
  {
   "cell_type": "code",
   "execution_count": null,
   "id": "a42e1c90",
   "metadata": {},
   "outputs": [],
   "source": [
    "data = {\n",
    "    \"Topic\": \"POTS Subtypes\",\n",
    "    \"Details\": \"POTS symptoms include fatigue, palpitations, and dizziness.\",\n",
    "    \"symptoms\": [\"Fatigue\", \"Palpitations\", \"Dizziness\"],\n",
    "    \"worsening_situations\": [\n",
    "        \"Hot environments\",\n",
    "        \"Standing for long periods\",\n",
    "        \"Strenuous exercise\",\n",
    "        \"Illness (e.g., cold or infection)\",\n",
    "        \"Menstruation\"\n",
    "    ],\n",
    "    \"pot_subtypes\": {\n",
    "        \"Neuropathic POTS\": \"Peripheral denervation (loss of nerve supply) causing poor blood vessel constriction\",\n",
    "        \"Hyperadrenergic POTS\": \"Overactive sympathetic nervous system with increased norepinephrine levels\",\n",
    "        \"Hypovolemic POTS\": \"Reduced blood volume leading to lightheadedness and fatigue\"\n",
    "    },\n",
    "    \"research_summary\": (\n",
    "        \"Researchers have not identified a single cause of POTS. It is believed to have multiple causes \"\n",
    "        \"and may involve combinations of subtypes. There is growing evidence that POTS can follow viral infections, including COVID-19.\"\n",
    "    ),\n",
    "    \"dysautonomia_symptoms\": [\n",
    "        \"Balance problems\", \"Nausea\", \"Brain fog\", \"Fainting\", \"Chest pain\", \n",
    "        \"Sweating abnormalities\", \"Heart rate irregularities\", \"Exercise intolerance\"\n",
    "    ],\n",
    "    \"COVID_symptoms\": [\"Fever\", \"Sore throat\", \"Fatigue\", \"Loss of smell\", \"Digestive issues\"]\n",
    "}\n"
   ]
  }
 ],
 "metadata": {
  "language_info": {
   "name": "python"
  }
 },
 "nbformat": 4,
 "nbformat_minor": 5
}
